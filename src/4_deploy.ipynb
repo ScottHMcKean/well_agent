{
 "cells": [
  {
   "cell_type": "markdown",
   "metadata": {
    "application/vnd.databricks.v1+cell": {
     "cellMetadata": {},
     "inputWidgets": {},
     "nuid": "9c33a82b-557e-4cfb-8704-e0360b5380b7",
     "showTitle": false,
     "tableResultSettingsMap": {},
     "title": ""
    }
   },
   "source": [
    "# Deploy\n",
    "\n",
    "This notebook takes our trained models, deploys them as serving endpoints, and sets functions for a proper query."
   ]
  },
  {
   "cell_type": "markdown",
   "metadata": {
    "application/vnd.databricks.v1+cell": {
     "cellMetadata": {},
     "inputWidgets": {},
     "nuid": "4df4c395-57dc-45af-b6c0-01958e572e3a",
     "showTitle": false,
     "tableResultSettingsMap": {},
     "title": ""
    }
   },
   "source": [
    "## ML Model Deployment\n",
    "We use MLflow's deploy client to simplify endpoint deployments"
   ]
  },
  {
   "cell_type": "code",
   "execution_count": 0,
   "metadata": {
    "application/vnd.databricks.v1+cell": {
     "cellMetadata": {
      "byteLimit": 2048000,
      "rowLimit": 10000
     },
     "inputWidgets": {},
     "nuid": "6e451576-2e83-4ea5-8e78-dff01fb85ac4",
     "showTitle": false,
     "tableResultSettingsMap": {},
     "title": ""
    }
   },
   "outputs": [],
   "source": [
    "from well_agent.utils import get_config_path, DotConfig\n",
    "config_path = get_config_path()\n",
    "config = DotConfig('config.yaml')"
   ]
  },
  {
   "cell_type": "code",
   "execution_count": 0,
   "metadata": {
    "application/vnd.databricks.v1+cell": {
     "cellMetadata": {
      "byteLimit": 2048000,
      "rowLimit": 10000
     },
     "inputWidgets": {},
     "nuid": "69d36cc1-b3e5-4ef8-a571-80c371b29f45",
     "showTitle": false,
     "tableResultSettingsMap": {},
     "title": ""
    }
   },
   "outputs": [],
   "source": [
    "config.train"
   ]
  },
  {
   "cell_type": "code",
   "execution_count": 0,
   "metadata": {
    "application/vnd.databricks.v1+cell": {
     "cellMetadata": {
      "byteLimit": 2048000,
      "rowLimit": 10000
     },
     "inputWidgets": {},
     "nuid": "a006c31b-702a-4b86-b5ac-81dcc8577695",
     "showTitle": false,
     "tableResultSettingsMap": {},
     "title": ""
    }
   },
   "outputs": [],
   "source": [
    "from mlflow.deployments import get_deploy_client\n",
    "\n",
    "client = get_deploy_client(\"databricks\")\n",
    "endpoint = client.create_endpoint(\n",
    "    name=config.deploy.base_hydrate_deploy_name,\n",
    "    config={\n",
    "        \"served_entities\": [\n",
    "            {\n",
    "                \"name\": config.train.base_model_name, \n",
    "                \"entity_name\": f\"{config.catalog}.{config.schema}.{config.train.base_model_name}\",\n",
    "                \"entity_version\": \"1\",\n",
    "                \"workload_size\": \"Small\",\n",
    "                \"scale_to_zero_enabled\": True\n",
    "            }\n",
    "        ],\n",
    "        \"traffic_config\": {\n",
    "            \"routes\": [\n",
    "                {\n",
    "                    \"served_model_name\": config.train.base_model_name,\n",
    "                    \"traffic_percentage\": 100\n",
    "                }\n",
    "            ]\n",
    "        }\n",
    "    }\n",
    ")"
   ]
  },
  {
   "cell_type": "markdown",
   "metadata": {
    "application/vnd.databricks.v1+cell": {
     "cellMetadata": {},
     "inputWidgets": {},
     "nuid": "15de58b3-b7df-487f-8afd-62b8c3d37977",
     "showTitle": false,
     "tableResultSettingsMap": {},
     "title": ""
    }
   },
   "source": [
    "# Tools\n",
    "\n",
    "We could use something like Genie to talk with out data, but when the structures are simple, it makes sense to use a more lightweight approach. This is a simple example of using a SQL query as a tool.\n",
    "\n",
    "Let's declare a parameterized function that queries the model for a specific well and time range. We have also defined other tools using SQL to get information about our well.\n",
    "\n",
    "We have defined a lot more tools as SQL queries in ../fixtures"
   ]
  },
  {
   "cell_type": "code",
   "execution_count": 0,
   "metadata": {
    "application/vnd.databricks.v1+cell": {
     "cellMetadata": {
      "byteLimit": 2048000,
      "implicitDf": true,
      "rowLimit": 10000
     },
     "inputWidgets": {},
     "nuid": "5e9ddb78-9e66-4174-8ae3-8118b42759f3",
     "showTitle": false,
     "tableResultSettingsMap": {},
     "title": ""
    }
   },
   "outputs": [],
   "source": [
    "%sql\n",
    "CREATE OR REPLACE FUNCTION workspace.default.latest_n_obs(\n",
    "  well_number_param BIGINT DEFAULT -1 COMMENT \"Well number between 1 and 50, must be an integer\",\n",
    "  n_obs_param INT DEFAULT 5 COMMENT \"Number of observations to return\")\n",
    "RETURNS TABLE (\n",
    "  well_number DOUBLE, \n",
    "  timestamp TIMESTAMP,\n",
    "  `T-JUS-CKP` DOUBLE,\n",
    "  `T-TPT` DOUBLE,\n",
    "  `P-TPT` DOUBLE,\n",
    "  `P-MON-CKP` DOUBLE,\n",
    "  `P-PDG` DOUBLE,\n",
    "  `QGL` DOUBLE\n",
    "  )\n",
    "COMMENT \"Gives the latest n observations for the well. If well_number_param is -1, returns the most recent n observations for all wells.\"\n",
    "RETURN\n",
    "SELECT well_number, timestamp, `T-JUS-CKP`, `T-TPT`, `P-TPT`, `P-MON-CKP`, `P-PDG`, `QGL`\n",
    "FROM (\n",
    "  SELECT \n",
    "    well_number,\n",
    "    timestamp,\n",
    "    `T-JUS-CKP`,\n",
    "    `T-TPT`,\n",
    "    `P-TPT`,\n",
    "    `P-MON-CKP`,\n",
    "    `P-PDG`,\n",
    "    `QGL`,\n",
    "    ROW_NUMBER() OVER (PARTITION BY well_number ORDER BY timestamp DESC) as row_num\n",
    "  FROM workspace.default.well_data\n",
    "  WHERE (well_number_param = -1 OR well_number = well_number_param)\n",
    "  ORDER BY timestamp DESC\n",
    "  LIMIT 1000 -- Use a large constant limit\n",
    ") subquery\n",
    "WHERE row_num <= n_obs_param"
   ]
  },
  {
   "cell_type": "code",
   "execution_count": 0,
   "metadata": {
    "application/vnd.databricks.v1+cell": {
     "cellMetadata": {
      "byteLimit": 2048000,
      "implicitDf": true,
      "rowLimit": 10000
     },
     "inputWidgets": {},
     "nuid": "afabf9c4-d236-4705-883e-fe4e008ecb10",
     "showTitle": false,
     "tableResultSettingsMap": {},
     "title": ""
    }
   },
   "outputs": [],
   "source": [
    "%sql\n",
    "SELECT * FROM workspace.default.latest_n_obs()"
   ]
  },
  {
   "cell_type": "code",
   "execution_count": 0,
   "metadata": {
    "application/vnd.databricks.v1+cell": {
     "cellMetadata": {},
     "inputWidgets": {},
     "nuid": "5ffdfc79-9783-446b-8231-bf5e8eefc3f9",
     "showTitle": false,
     "tableResultSettingsMap": {},
     "title": ""
    }
   },
   "outputs": [],
   "source": [
    "%sql\n",
    "CREATE FUNCTION workspace.default.predict_state(\n",
    "    well_number_param INT DEFAULT -1 COMMENT \"Well number between 1 and 50, must be integer. Select -1 to get all wells\", \n",
    "    n_obs_param INT DEFAULT 10 COMMENT \"Number of observations to predict\"\n",
    ")\n",
    "RETURNS TABLE (\n",
    "    well_number INTEGER,\n",
    "    timestamp TIMESTAMP,\n",
    "    prediction INTEGER \n",
    ")\n",
    "COMMENT \"Generates hydrate predictions for the latest sensor readings\"\n",
    "RETURN\n",
    "SELECT \n",
    "    well_number,\n",
    "    timestamp,\n",
    "    AI_QUERY(\n",
    "        'hydrate_predict',\n",
    "        request => NAMED_STRUCT(\n",
    "        'P-PDG', `latest_n_obs`.`P-PDG`,\n",
    "        'P-TPT', `latest_n_obs`.`P-TPT`,\n",
    "        'T-TPT', `latest_n_obs`.`T-TPT`,\n",
    "        'P-MON-CKP', `latest_n_obs`.`P-MON-CKP`,\n",
    "        'T-JUS-CKP', `latest_n_obs`.`T-JUS-CKP`,\n",
    "        'QGL', `latest_n_obs`.`QGL`,\n",
    "        'well_number', `latest_n_obs`.`well_number`\n",
    "        ),\n",
    "        returnType => 'DOUBLE'\n",
    "    ) AS prediction\n",
    "FROM workspace.default.latest_n_obs(well_number_param, n_obs_param)"
   ]
  },
  {
   "cell_type": "markdown",
   "metadata": {
    "application/vnd.databricks.v1+cell": {
     "cellMetadata": {},
     "inputWidgets": {},
     "nuid": "b781e049-d4dd-45dd-87ae-ea927b57d52f",
     "showTitle": false,
     "tableResultSettingsMap": {},
     "title": ""
    }
   },
   "source": [
    "This is a backup if we can't get the lightGBM model working due to permission errors on Free Edition - we use Batch inference with structured outputs to simulate a random number generator"
   ]
  },
  {
   "cell_type": "code",
   "execution_count": 0,
   "metadata": {
    "application/vnd.databricks.v1+cell": {
     "cellMetadata": {
      "byteLimit": 2048000,
      "implicitDf": true,
      "rowLimit": 10000
     },
     "inputWidgets": {},
     "nuid": "e7a1c3d3-ae4e-4b55-b655-d4b084ab1188",
     "showTitle": false,
     "tableResultSettingsMap": {},
     "title": ""
    }
   },
   "outputs": [],
   "source": [
    "%sql\n",
    "CREATE OR REPLACE FUNCTION workspace.default.predict_state(\n",
    "    well_number_param INT DEFAULT -1 COMMENT \"Well number between 1 and 50, must be integer. Select -1 to get all wells\", \n",
    "    n_obs_param INT DEFAULT 10 COMMENT \"Number of observations to predict\"\n",
    ")\n",
    "RETURNS TABLE (\n",
    "    well_number INTEGER,\n",
    "    timestamp TIMESTAMP,\n",
    "    prediction INTEGER \n",
    ")\n",
    "COMMENT \"Generates hydrate predictions for the latest sensor readings\"\n",
    "RETURN\n",
    "SELECT \n",
    "    well_number,\n",
    "    timestamp,\n",
    "    parse_json(ai_query(\n",
    "        'databricks-meta-llama-3-3-70b-instruct', \n",
    "        \"Pick a random number between 0 and 8\",\n",
    "        responseFormat => 'STRUCT<pred:STRUCT<value:INT>>',\n",
    "        modelParameters => named_struct('temperature', 1.9)\n",
    "    )):value AS prediction\n",
    "FROM workspace.default.latest_n_obs(well_number_param, n_obs_param)"
   ]
  },
  {
   "cell_type": "code",
   "execution_count": 0,
   "metadata": {
    "application/vnd.databricks.v1+cell": {
     "cellMetadata": {
      "byteLimit": 2048000,
      "implicitDf": true,
      "rowLimit": 10000
     },
     "inputWidgets": {},
     "nuid": "bd88ef39-50f7-42c4-8e75-78e8c24124f9",
     "showTitle": false,
     "tableResultSettingsMap": {},
     "title": ""
    }
   },
   "outputs": [],
   "source": [
    "%sql\n",
    "SELECT * FROM workspace.default.predict_state()"
   ]
  },
  {
   "cell_type": "code",
   "execution_count": 0,
   "metadata": {
    "application/vnd.databricks.v1+cell": {
     "cellMetadata": {},
     "inputWidgets": {},
     "nuid": "07a9eb14-e2df-4f2a-b65f-938d0487a99b",
     "showTitle": false,
     "tableResultSettingsMap": {},
     "title": ""
    }
   },
   "outputs": [],
   "source": [
    "with open(\"query.sql\", \"r\") as file:\n",
    "    query = file.read()\n",
    "\n",
    "df = spark.sql(query)\n",
    "display(df)"
   ]
  }
 ],
 "metadata": {
  "application/vnd.databricks.v1+notebook": {
   "computePreferences": {
    "hardware": {
     "accelerator": null,
     "gpuPoolId": null,
     "memory": null
    }
   },
   "dashboards": [],
   "environmentMetadata": {
    "base_environment": "",
    "environment_version": "3"
   },
   "inputWidgetPreferences": null,
   "language": "python",
   "notebookMetadata": {
    "mostRecentlyExecutedCommandWithImplicitDF": {
     "commandId": 7692790942574608,
     "dataframes": [
      "_sqldf"
     ]
    },
    "pythonIndentUnit": 2
   },
   "notebookName": "4_deploy",
   "widgets": {}
  },
  "kernelspec": {
   "display_name": ".venv",
   "language": "python",
   "name": "python3"
  },
  "language_info": {
   "name": "python"
  }
 },
 "nbformat": 4,
 "nbformat_minor": 0
}
